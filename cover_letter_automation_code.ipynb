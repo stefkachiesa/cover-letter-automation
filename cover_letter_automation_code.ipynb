{
 "cells": [
  {
   "cell_type": "code",
   "execution_count": null,
   "id": "d73cd114-b61c-4c2f-9c8d-b4d17aa073ab",
   "metadata": {},
   "outputs": [],
   "source": [
    "from datetime import datetime\n",
    "from docx import Document\n",
    "from docx.shared import Pt\n",
    "from docx.oxml.ns import qn\n",
    "import os\n",
    "import re\n",
    "from docx2pdf import convert\n",
    "import win32com.client as win32\n",
    "from win32com.client import constants"
   ]
  },
  {
   "cell_type": "markdown",
   "id": "d674d02a-16a8-46b7-875c-284c8fe7f683",
   "metadata": {},
   "source": [
    "This section imports necessary libraries for document creation, PDF conversion, and Google Drive interaction."
   ]
  },
  {
   "cell_type": "code",
   "execution_count": null,
   "id": "43e66b40-3743-4a3d-b602-35a3184f83ed",
   "metadata": {},
   "outputs": [],
   "source": [
    "\n",
    "def sanitize_filename(filename):\n",
    "    \"\"\"\n",
    "    Sanitizes the filename to remove or replace invalid characters.\n",
    "    \"\"\"\n",
    "    return re.sub(r'[^a-zA-Z0-9_\\-]', '_', filename)"
   ]
  },
  {
   "cell_type": "markdown",
   "id": "1b8dffb4-a570-4173-8090-985e0f3f821e",
   "metadata": {},
   "source": [
    "##### Function: `sanitize_filename`\n",
    "\n",
    "Sanitizes a given filename to remove or replace invalid characters with underscores (`_`).\n",
    "\n",
    "##### Parameters:\n",
    "- `filename`: A string representing the filename to be sanitized.\n",
    "\n",
    "##### Returns:\n",
    "- A sanitized version of the filename where any characters not matching `[a-zA-Z0-9_\\-]` are replaced with underscores (`_`).\n",
    "\n",
    "\n"
   ]
  },
  {
   "cell_type": "code",
   "execution_count": null,
   "id": "2a670fba-1798-4cbc-9cec-9847863cd9bf",
   "metadata": {},
   "outputs": [],
   "source": [
    "def set_font(run, font_name, font_size, bold=False):\n",
    "    run.font.name = font_name\n",
    "    run.font.size = Pt(font_size)\n",
    "    run.bold = bold\n",
    "    r = run._element\n",
    "    r.rPr.rFonts.set(qn('w:eastAsia'), font_name)"
   ]
  },
  {
   "cell_type": "markdown",
   "id": "e4838abc-2cd3-4aa4-9ec6-d4e57302a9f1",
   "metadata": {},
   "source": [
    "Functionality:\n",
    "\n",
    "Sets the font.name and font.size properties of the run to the specified font_name and font_size, respectively.\n",
    "If bold is True, it sets run.bold to True, making the font bold.\n",
    "Ensures consistent font settings across the run, including support for East Asian fonts (w:eastAsia).\n",
    "This function is useful for applying consistent font styles to text runs within a Microsoft Word document, allowing flexibility with bold formatting when needed."
   ]
  },
  {
   "cell_type": "code",
   "execution_count": null,
   "id": "14c90382-d336-48f8-bd61-d6b27a5f6146",
   "metadata": {},
   "outputs": [],
   "source": [
    "def create_cover_letter(position, company_name, company_address, sector, achievements, strengths, font_name='Arial', font_size=12):\n",
    "    \" fuction to create the desired template, with the insertion of customized areas \"\n",
    "    # Create a new Document\n",
    "    doc = Document()\n",
    "\n",
    "    # Add the Date\n",
    "    date_paragraph = doc.add_paragraph()\n",
    "    current_date = datetime.now().strftime(\"%B %d, %Y\")\n",
    "    run = date_paragraph.add_run(current_date)\n",
    "    set_font(run, font_name, font_size)\n",
    "\n",
    "    # Add a blank line\n",
    "    doc.add_paragraph('\\n')\n",
    "    \n",
    "    # Example content\n",
    "    content = [\n",
    "    f\"I am writing to apply for the position of {position} at {company_name}{position} at {company_name}. I am particularly drawn to {company_name} innovative approach in the {sector} field.\"\n",
    "        f\"{company_name} has notably achieved {achievements}This is particularly impressive and resonates with my ambition to contribute to such a dynamic environment with my analytical skills.\",\n",
    "    \"To demonstrate my proactive approach and technical skills, I have automated the creation of reports using Python scripts. This allows me to efficiently generate tailored reports consistently. Recognizing the importance of efficiency and precision in data analysis, I developed Python scripts to automate various data processes.\",\n",
    "    \"This script leverages the pandas library to analyze data dynamically, ensuring that each report is meticulously tailored to specific requirements. The scripts I developed include several key features:\"\n",
    "     ]\n",
    "\n",
    "    # Loop through the content paragraphs\n",
    "    for paragraph_text in content:\n",
    "    p = doc.add_paragraph()\n",
    "\n",
    "    # Check if the specific text is present in the paragraph\n",
    "    if \"I have automated the creation of reports using Python scripts\" in paragraph_text:\n",
    "        parts = paragraph_text.split(\"I have automated the creation of reports using Python scripts\")\n",
    "        if parts[0]:\n",
    "            run = p.add_run(parts[0])\n",
    "            set_font(run, \"Arial\", 12)  # Specify your desired font and size\n",
    "        run = p.add_run(\"I have automated the creation of reports using Python scripts\")\n",
    "        set_font(run, \"Arial\", 12, bold=True)  # Make this specific text bold\n",
    "        if parts[1]:\n",
    "            run = p.add_run(parts[1])\n",
    "            set_font(run, \"Arial\", 12)  # Specify your desired font and size\n",
    "    else:\n",
    "        run = p.add_run(paragraph_text)\n",
    "        set_font(run, \"Arial\", 12)  # Specify your desired font and size\n",
    "\n",
    " # Add bullet points\n",
    "    bullet_points = [\n",
    "        \"Dynamic insertion of company name, notable achievements, and relevant strengths.\",\n",
    "        \"Customizable font and formatting options.\",\n",
    "        \"Automated date insertion and address formatting.\",\n",
    "        \"`python-docx` library for document creation and manipulation.\"\n",
    "    ]\n",
    "\n",
    "    for point in bullet_points:\n",
    "        p = doc.add_paragraph()\n",
    "        p.style = 'List Bullet'\n",
    "        run = p.add_run(point)\n",
    "        set_font(run, font_name, font_size)\n",
    "\n",
    "    # Add GitHub repository link\n",
    "    github_paragraph = doc.add_paragraph()\n",
    "    github_text = (\n",
    "        \"You can view the full script on my [GitHub repository](https://github.com/name/repo).\"\n",
    "    )\n",
    "    run = github_paragraph.add_run(github_text)\n",
    "    run.font.bold = True\n",
    "    run.font.underline = True\n",
    "    set_font(run, font_name, font_size)\n",
    "\n",
    "    # Add closing statement\n",
    "    closing_paragraph = doc.add_paragraph()\n",
    "    closing_text = (\n",
    "        f\"I am confident that my technical skills, combined with {strengths}, make me a strong candidate for this position. \"\n",
    "        f\"I am eager to contribute to {company_name} and I am available for an interview at your earliest convenience. \"\n",
    "        \"Thank you for considering my application.\"\n",
    "    )\n",
    "    run = closing_paragraph.add_run(closing_text)\n",
    "    set_font(run, font_name, font_size)\n",
    "\n",
    "    # Add signature\n",
    "    signature_paragraph = doc.add_paragraph()\n",
    "    run = signature_paragraph.add_run('Sincerely,')\n",
    "    set_font(run, font_name, font_size)\n",
    "\n"
   ]
  },
  {
   "cell_type": "markdown",
   "id": "2ebde03a-5c64-4fca-9d52-a84d8b34145a",
   "metadata": {},
   "source": [
    "##### The snippet above creates the template of the letter"
   ]
  },
  {
   "cell_type": "code",
   "execution_count": null,
   "id": "613e7c46-7acc-42dc-98b5-98961e658389",
   "metadata": {},
   "outputs": [],
   "source": [
    "    # Sanitize the filename\n",
    "    sanitized_company_name = sanitize_filename(company_name)\n",
    "    doc_filename = f'cover_letter_{sanitized_company_name}.docx'\n",
    "\n",
    "    # Save the document\n",
    "    try:\n",
    "        doc.save(doc_filename)\n",
    "    except PermissionError:\n",
    "        print(f\"Error: Permission denied while saving {doc_filename}. Please close the file if it's open and try again.\")\n",
    "        return\n",
    "\n",
    "    # Convert to PDF\n",
    "    pdf_file_name = f\"cover_letter_stefania_chiesa_{sanitized_company_name}.pdf\"\n",
    "    try:\n",
    "        convert(doc_filename, pdf_file_name)\n",
    "    except Exception as e:\n",
    "        print(f\"Error converting to PDF: {e}\")\n",
    "        return\n"
   ]
  },
  {
   "cell_type": "markdown",
   "id": "d262c8b1-87e6-4d0d-8278-bbe2c10450dc",
   "metadata": {},
   "source": [
    "##### The snippet above demonstrates the process of sanitizing a filename, saving a document, and converting it to PDF format in Python, handling potential errors along the way."
   ]
  },
  {
   "cell_type": "code",
   "execution_count": null,
   "id": "9b9796bc-579f-49b4-ad42-644172622951",
   "metadata": {},
   "outputs": [],
   "source": [
    "  # Get the full path to the saved PDF document\n",
    "    full_path = os.path.abspath(pdf_file_name)\n",
    "    print(f\"Cover letter saved as {full_path}\")\n",
    "\n",
    "    # Upload to Google Drive\n",
    "    upload_to_google_drive(full_path, pdf_file_name)"
   ]
  },
  {
   "cell_type": "markdown",
   "id": "147a0806-7565-4af7-8db4-77e094363142",
   "metadata": {},
   "source": [
    "###### Get the full path to the saved PDF document\n",
    "\n",
    "The `os.path.abspath` function is used to obtain the absolute path of the saved PDF file (`pdf_file_name`). This ensures that the path returned is complete and includes the drive letter (on Windows) or root directory (on Unix-like systems) along with all intermediate directories. For example, if `pdf_file_name` is \"cover_letter_stefania_chiesa_XYZ_Company__Inc_.pdf\", `full_path` will hold the complete path to this file on the file system.\n",
    "\n",
    "\n"
   ]
  },
  {
   "cell_type": "code",
   "execution_count": null,
   "id": "c8fefed1-0541-4114-996d-427c0ccb75e2",
   "metadata": {},
   "outputs": [],
   "source": [
    "def upload_to_google_drive(file_path, file_name):\n",
    "    SCOPES = ['https://www.googleapis.com/auth/drive.file']\n",
    "    credentials = service_account.Credentials.from_service_account_file('XXXX.json', scopes=SCOPES)\n",
    "    service = build('drive', 'v3', credentials=credentials)\n",
    "\n",
    "    file_metadata = {'name': file_name}\n",
    "    media = MediaFileUpload(file_path, mimetype='application/pdf')\n",
    "\n",
    "    file = service.files().create(body=file_metadata, media_body=media, fields='id').execute()\n",
    "    print(f'File ID: {file.get(\"id\")}')\n",
    "    share_file(file.get(\"id\"))"
   ]
  },
  {
   "cell_type": "markdown",
   "id": "4cbcbccf-5423-4dd7-88ba-dded9c7cf32b",
   "metadata": {},
   "source": [
    "###### Upload to Google Drive\n",
    "\n",
    "The `upload_to_google_drive` function facilitates uploading a file to Google Drive using the Google Drive API. Below is a breakdown of its components:\n",
    "\n",
    "SCOPES: Defines the access scope required for the Google Drive API. In this case, drive.file scope is used, which allows the application to create, open, and edit files on the user's Drive.\n",
    "\n",
    "credentials: Loads the service account credentials (vvv.json) to authenticate and authorize access to the Google Drive API with the specified scopes.\n",
    "\n",
    "service: Initializes the Google Drive service using the build function from the googleapiclient.discovery module. This service object is used to interact with Google Drive API methods.\n",
    "\n",
    "file_metadata: Specifies the metadata for the file being uploaded. Here, the name key is set to file_name, which represents the name of the file as it will appear in Google Drive.\n",
    "\n",
    "media: Creates a MediaFileUpload object initialized with file_path and mimetype='application/pdf'. This object represents the file content to be uploaded along with its MIME type.\n"
   ]
  },
  {
   "cell_type": "code",
   "execution_count": null,
   "id": "6efec29a-0a6e-4047-b112-0d5ebe69ee83",
   "metadata": {},
   "outputs": [],
   "source": [
    "def share_file(file_id):\n",
    "    SCOPES = ['https://www.googleapis.com/auth/drive']\n",
    "    credentials = service_account.Credentials.from_service_account_file('XXXX.json', scopes=SCOPES)\n",
    "    service = build('drive', 'v3', credentials=credentials)\n",
    "\n",
    "    try:\n",
    "        # Define new permissions\n",
    "        new_permission = {\n",
    "            'type': 'anyone',  # This makes the file accessible by anyone with the link\n",
    "            'role': 'reader',  # This gives read-only access\n",
    "        }\n",
    "        service.permissions().create(\n",
    "            fileId=file_id,\n",
    "            body=new_permission\n",
    "        ).execute()\n",
    "        print(f\"File with ID {file_id} is now shared publicly.\")\n",
    "        \n",
    "        # Retrieve the web view link\n",
    "        file = service.files().get(fileId=file_id, fields='webViewLink').execute()\n",
    "        print(f\"File Web View Link: {file.get('webViewLink')}\")\n",
    "    except Exception as e:\n",
    "        print(f\"Error sharing file: {e}\")\n"
   ]
  },
  {
   "cell_type": "markdown",
   "id": "2daaa0e8-c816-48c1-a60c-f14449c2bb08",
   "metadata": {},
   "source": [
    "Permissions Creation: Creates a new permission for the file specified by file_id. The new_permission dictionary specifies that anyone with the link (type='anyone') has read-only access (role='reader').\n",
    "\n",
    "service.permissions().create: Calls the create method of the Google Drive service to set the permissions defined in new_permission for the file identified by file_id.\n",
    "\n",
    "fileId=file_id: Specifies the ID of the file for which permissions are being set.\n",
    "\n",
    "fields='webViewLink': Specifies that the API response should include the webViewLink, which is the link to view the file in a web browser.\n",
    "\n",
    "Execute and Print: Executes the API request to set permissions and prints a confirmation message that the file is now shared publicly, along with the web view link.\n",
    "\n",
    "Exception Handling: Catches any exceptions that may occur during the process, such as errors related to API requests, and prints an error message indicating the issue.\n",
    "\n",
    "##### This function provides a streamlined approach to sharing files on Google Drive programmatically, ensuring that files can be easily accessed and viewed by others with the appropriate permissions."
   ]
  },
  {
   "cell_type": "code",
   "execution_count": null,
   "id": "d2bcef4e-8100-49c7-a8e0-1f086c3e79bd",
   "metadata": {},
   "outputs": [],
   "source": [
    "# Example usage\n",
    "create_cover_letter(\"Position Title\",\" Max Power Company\", \" picasso street 12, Haifa\", \"industrial\", \"Significant milestone of becoming publicly traded last year\", \" great ability to work \", font_name=\"Arial\", font_size=10)"
   ]
  },
  {
   "cell_type": "markdown",
   "id": "da5110e2-f34c-47a7-bed5-a77a6fccf8a1",
   "metadata": {},
   "source": [
    "###### Example of usage"
   ]
  },
  {
   "cell_type": "code",
   "execution_count": null,
   "id": "e3c20a0a-b223-4f08-8a77-2574b4d82474",
   "metadata": {},
   "outputs": [],
   "source": []
  }
 ],
 "metadata": {
  "kernelspec": {
   "display_name": "Python 3 (ipykernel)",
   "language": "python",
   "name": "python3"
  },
  "language_info": {
   "codemirror_mode": {
    "name": "ipython",
    "version": 3
   },
   "file_extension": ".py",
   "mimetype": "text/x-python",
   "name": "python",
   "nbconvert_exporter": "python",
   "pygments_lexer": "ipython3",
   "version": "3.11.7"
  }
 },
 "nbformat": 4,
 "nbformat_minor": 5
}
