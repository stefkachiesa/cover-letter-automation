{
 "cells": [
  {
   "cell_type": "code",
   "execution_count": 3,
   "id": "c61a78f5-164f-4787-82b3-b4d6181c9359",
   "metadata": {},
   "outputs": [],
   "source": [
    "# Cover Letter Automation Script\n",
    "\n",
    "import os\n",
    "from docx import Document\n",
    "from docx.shared import Pt\n",
    "from datetime import datetime\n",
    "from docx2pdf import convert\n",
    "from google.oauth2 import service_account\n",
    "from googleapiclient.discovery import build\n",
    "from googleapiclient.http import MediaFileUpload\n"
   ]
  },
  {
   "cell_type": "markdown",
   "id": "96b0eda2-0786-4b45-8637-b68cb600a305",
   "metadata": {},
   "source": [
    "This section imports necessary libraries for document creation, PDF conversion, and Google Drive interaction."
   ]
  },
  {
   "cell_type": "code",
   "execution_count": 4,
   "id": "16ed507d-b2f1-487e-a1d9-9e29af7d6d6e",
   "metadata": {},
   "outputs": [],
   "source": [
    "def set_font(paragraph, font_name=\"Times New Roman\", font_size=12):\n",
    "    for run in paragraph.runs:\n",
    "        run.font.name = font_name\n",
    "        run.font.size = Pt(font_size)\n"
   ]
  },
  {
   "cell_type": "markdown",
   "id": "348efa81-f9c3-443c-bdaf-9400f4673db5",
   "metadata": {},
   "source": [
    "Defines a function to set the font for a given paragraph in the document."
   ]
  },
  {
   "cell_type": "code",
   "execution_count": 5,
   "id": "ac39207f-2d54-4b70-98ad-08d6ab20aa57",
   "metadata": {},
   "outputs": [],
   "source": [
    "def create_cover_letter_your_name(position, company_name, sector, achievements, strengths, font_name=\"Times New Roman\", font_size=10):\n",
    "    doc = Document()\n",
    "    current_date = datetime.now().strftime(\"%d/%m/%Y\")\n",
    "\n",
    "    template = f\"\"\"\n",
    "    {current_date}\n",
    "\n",
    "    Dear Hiring Manager,\n",
    "\n",
    "    I am writing to apply for the position of {position} at {company_name}.\n",
    "    I am particularly impressed by {company_name}'s work in the {sector} sector, especially {achievements}.\n",
    "\n",
    "    My experience includes [relevant experience] and [key skills or qualifications]. I am confident that my technical skills and my {strengths} make me a strong candidate for this position.\n",
    "\n",
    "    Sincerely,\n",
    "\n",
    "    [Your Name]\n",
    "    \n",
    "    \"\"\"\n",
    "\n",
    "    for line in template.strip().split('\\n'):\n",
    "        paragraph = doc.add_paragraph(line.strip())\n",
    "        set_font(paragraph, font_name, font_size)\n",
    "\n",
    "    doc_file_name = f\"cover_letter_{company_name}.docx\"\n",
    "    doc.save(doc_file_name)\n",
    "\n",
    "    pdf_file_name = f\"cover_letter_{company_name}.pdf\"\n",
    "    convert(doc_file_name, pdf_file_name)\n",
    "\n",
    "    full_path = os.path.abspath(pdf_file_name)\n",
    "    print(f\"Cover letter saved as {full_path}\")\n",
    "\n",
    "    upload_to_google_drive(full_path, pdf_file_name)\n"
   ]
  },
  {
   "cell_type": "markdown",
   "id": "e65986ac-33e1-4b4c-b7dc-88b37c1bcc21",
   "metadata": {},
   "source": [
    "Creates a cover letter with customizable details, converts it to PDF, and initiates the upload to Google Drive."
   ]
  },
  {
   "cell_type": "code",
   "execution_count": 6,
   "id": "c850632e-3121-47ee-93b4-ff8ec0c98187",
   "metadata": {},
   "outputs": [],
   "source": [
    "def upload_to_google_drive(file_path, file_name):\n",
    "    SCOPES = ['https://www.googleapis.com/auth/drive.file']\n",
    "    credentials = service_account.Credentials.from_service_account_file('xxxx.json', scopes=SCOPES)\n",
    "    service = build('drive', 'v3', credentials=credentials)\n",
    "\n",
    "    file_metadata = {'name': file_name}\n",
    "    media = MediaFileUpload(file_path, mimetype='application/pdf')\n",
    "\n",
    "    file = service.files().create(body=file_metadata, media_body=media, fields='id').execute()\n",
    "    print(f'File ID: {file.get(\"id\")}')\n",
    "    share_file(file.get(\"id\"))\n"
   ]
  },
  {
   "cell_type": "markdown",
   "id": "81437baa-3abd-40c5-8db4-1786dc6f7edf",
   "metadata": {},
   "source": [
    "Handles the ***upload*** of the generated PDF to Google Drive using the Google Drive API."
   ]
  },
  {
   "cell_type": "code",
   "execution_count": 7,
   "id": "d68c172f-0cf4-4406-beaa-f8afa8a981b2",
   "metadata": {},
   "outputs": [],
   "source": [
    "def share_file(file_id):\n",
    "    SCOPES = ['https://www.googleapis.com/auth/drive']\n",
    "    credentials = service_account.Credentials.from_service_account_file('xxxx.json', scopes=SCOPES)\n",
    "    service = build('drive', 'v3', credentials=credentials)\n",
    "\n",
    "    try:\n",
    "        new_permission = {\n",
    "            'type': 'anyone',\n",
    "            'role': 'reader',\n",
    "        }\n",
    "        service.permissions().create(\n",
    "            fileId=file_id,\n",
    "            body=new_permission\n",
    "        ).execute()\n",
    "        print(f\"File with ID {file_id} is now shared publicly.\")\n",
    "        \n",
    "        file = service.files().get(fileId=file_id, fields='webViewLink').execute()\n",
    "        print(f\"File Web View Link: {file.get('webViewLink')}\")\n",
    "    except Exception as e:\n",
    "        print(f\"Error sharing file: {e}\")\n"
   ]
  },
  {
   "cell_type": "markdown",
   "id": "a43f0823-7b72-48a2-b40d-36a0fafacb83",
   "metadata": {},
   "source": [
    "Sets the file permissions to public and retrieves the web view link for the uploaded file."
   ]
  },
  {
   "cell_type": "markdown",
   "id": "08a5498f-2edd-4fb4-9900-af622b134139",
   "metadata": {},
   "source": [
    "***API Setup***: This part of the code sets up the Google Drive API client. It defines the required OAuth scopes, loads the service account credentials from a JSON file, and builds a service object for the Drive API.\n",
    "\n",
    "***Setting Permissions***: Within a try block, this code creates a new permission object that allows anyone with the link to read the file. It then uses the permissions().create method to apply this permission to the file identified by file_id. If successful, it prints a confirmation message.\n",
    "Retrieving the Link: After setting the permissions, this code retrieves the file’s web view link using the files().get method and prints it. This allows you to easily share the link with others.\n",
    "\n",
    "***Retrieving the Link***: After setting the permissions, this code retrieves the file’s web view link using the files().get method and prints it. This allows you to easily share the link with others.\n",
    "\n",
    "***Error Handling***: If any part of the process fails, the exception is caught and an error message is printed, which helps in debugging and understanding what went wrong."
   ]
  },
  {
   "cell_type": "code",
   "execution_count": null,
   "id": "fbeddde3-c2c9-4d4c-8aa2-22dcd81c91d2",
   "metadata": {},
   "outputs": [],
   "source": [
    "create_cover_letter_your_name(\"Position Title\", \"Company\", \"industrial\", \"notable achievements\", \"candidate strengths and abilities\", font_name=\"Arial\", font_size=12)\n"
   ]
  }
 ],
 "metadata": {
  "kernelspec": {
   "display_name": "Python 3 (ipykernel)",
   "language": "python",
   "name": "python3"
  },
  "language_info": {
   "codemirror_mode": {
    "name": "ipython",
    "version": 3
   },
   "file_extension": ".py",
   "mimetype": "text/x-python",
   "name": "python",
   "nbconvert_exporter": "python",
   "pygments_lexer": "ipython3",
   "version": "3.11.7"
  }
 },
 "nbformat": 4,
 "nbformat_minor": 5
}
